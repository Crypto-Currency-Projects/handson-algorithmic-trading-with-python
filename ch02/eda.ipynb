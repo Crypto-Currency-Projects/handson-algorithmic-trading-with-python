{
 "cells": [
  {
   "cell_type": "code",
   "execution_count": 1,
   "metadata": {},
   "outputs": [],
   "source": [
    "import numpy as np\n",
    "import pandas as pd\n",
    "import matplotlib.pyplot as plt"
   ]
  },
  {
   "cell_type": "code",
   "execution_count": 2,
   "metadata": {},
   "outputs": [],
   "source": [
    "# Data collection"
   ]
  },
  {
   "cell_type": "code",
   "execution_count": 3,
   "metadata": {},
   "outputs": [],
   "source": [
    "pd.set_option('display.max_rows', 2)"
   ]
  },
  {
   "cell_type": "code",
   "execution_count": 4,
   "metadata": {},
   "outputs": [
    {
     "data": {
      "text/html": [
       "<div>\n",
       "<style scoped>\n",
       "    .dataframe tbody tr th:only-of-type {\n",
       "        vertical-align: middle;\n",
       "    }\n",
       "\n",
       "    .dataframe tbody tr th {\n",
       "        vertical-align: top;\n",
       "    }\n",
       "\n",
       "    .dataframe thead th {\n",
       "        text-align: right;\n",
       "    }\n",
       "</style>\n",
       "<table border=\"1\" class=\"dataframe\">\n",
       "  <thead>\n",
       "    <tr style=\"text-align: right;\">\n",
       "      <th></th>\n",
       "      <th>Open</th>\n",
       "      <th>High</th>\n",
       "      <th>Low</th>\n",
       "      <th>Close</th>\n",
       "      <th>Adj Close</th>\n",
       "      <th>Volume</th>\n",
       "    </tr>\n",
       "    <tr>\n",
       "      <th>Date</th>\n",
       "      <th></th>\n",
       "      <th></th>\n",
       "      <th></th>\n",
       "      <th></th>\n",
       "      <th></th>\n",
       "      <th></th>\n",
       "    </tr>\n",
       "  </thead>\n",
       "  <tbody>\n",
       "    <tr>\n",
       "      <th>2015-05-15</th>\n",
       "      <td>18251.970703</td>\n",
       "      <td>18272.720703</td>\n",
       "      <td>18215.070313</td>\n",
       "      <td>18272.560547</td>\n",
       "      <td>18272.560547</td>\n",
       "      <td>108220000</td>\n",
       "    </tr>\n",
       "    <tr>\n",
       "      <th>...</th>\n",
       "      <td>...</td>\n",
       "      <td>...</td>\n",
       "      <td>...</td>\n",
       "      <td>...</td>\n",
       "      <td>...</td>\n",
       "      <td>...</td>\n",
       "    </tr>\n",
       "    <tr>\n",
       "      <th>2020-05-14</th>\n",
       "      <td>23049.060547</td>\n",
       "      <td>23630.859375</td>\n",
       "      <td>22789.619141</td>\n",
       "      <td>23625.339844</td>\n",
       "      <td>23625.339844</td>\n",
       "      <td>472700000</td>\n",
       "    </tr>\n",
       "  </tbody>\n",
       "</table>\n",
       "<p>1211 rows × 6 columns</p>\n",
       "</div>"
      ],
      "text/plain": [
       "                    Open          High           Low         Close  \\\n",
       "Date                                                                 \n",
       "2015-05-15  18251.970703  18272.720703  18215.070313  18272.560547   \n",
       "...                  ...           ...           ...           ...   \n",
       "2020-05-14  23049.060547  23630.859375  22789.619141  23625.339844   \n",
       "\n",
       "               Adj Close     Volume  \n",
       "Date                                 \n",
       "2015-05-15  18272.560547  108220000  \n",
       "...                  ...        ...  \n",
       "2020-05-14  23625.339844  472700000  \n",
       "\n",
       "[1211 rows x 6 columns]"
      ]
     },
     "execution_count": 4,
     "metadata": {},
     "output_type": "execute_result"
    }
   ],
   "source": [
    "A = pd.read_csv('A.csv', parse_dates=True, index_col=0); A"
   ]
  },
  {
   "cell_type": "code",
   "execution_count": 5,
   "metadata": {},
   "outputs": [
    {
     "data": {
      "text/html": [
       "<div>\n",
       "<style scoped>\n",
       "    .dataframe tbody tr th:only-of-type {\n",
       "        vertical-align: middle;\n",
       "    }\n",
       "\n",
       "    .dataframe tbody tr th {\n",
       "        vertical-align: top;\n",
       "    }\n",
       "\n",
       "    .dataframe thead th {\n",
       "        text-align: right;\n",
       "    }\n",
       "</style>\n",
       "<table border=\"1\" class=\"dataframe\">\n",
       "  <thead>\n",
       "    <tr style=\"text-align: right;\">\n",
       "      <th></th>\n",
       "      <th>Open</th>\n",
       "      <th>High</th>\n",
       "      <th>Low</th>\n",
       "      <th>Close</th>\n",
       "      <th>Adj Close</th>\n",
       "      <th>Volume</th>\n",
       "    </tr>\n",
       "    <tr>\n",
       "      <th>Date</th>\n",
       "      <th></th>\n",
       "      <th></th>\n",
       "      <th></th>\n",
       "      <th></th>\n",
       "      <th></th>\n",
       "      <th></th>\n",
       "    </tr>\n",
       "  </thead>\n",
       "  <tbody>\n",
       "    <tr>\n",
       "      <th>2015-05-15</th>\n",
       "      <td>2122.070068</td>\n",
       "      <td>2123.889893</td>\n",
       "      <td>2116.810059</td>\n",
       "      <td>2122.72998</td>\n",
       "      <td>2122.72998</td>\n",
       "      <td>3092080000</td>\n",
       "    </tr>\n",
       "    <tr>\n",
       "      <th>...</th>\n",
       "      <td>...</td>\n",
       "      <td>...</td>\n",
       "      <td>...</td>\n",
       "      <td>...</td>\n",
       "      <td>...</td>\n",
       "      <td>...</td>\n",
       "    </tr>\n",
       "    <tr>\n",
       "      <th>2020-05-14</th>\n",
       "      <td>2794.540039</td>\n",
       "      <td>2852.800049</td>\n",
       "      <td>2766.639893</td>\n",
       "      <td>2852.50000</td>\n",
       "      <td>2852.50000</td>\n",
       "      <td>5641920000</td>\n",
       "    </tr>\n",
       "  </tbody>\n",
       "</table>\n",
       "<p>1209 rows × 6 columns</p>\n",
       "</div>"
      ],
      "text/plain": [
       "                   Open         High          Low       Close   Adj Close  \\\n",
       "Date                                                                        \n",
       "2015-05-15  2122.070068  2123.889893  2116.810059  2122.72998  2122.72998   \n",
       "...                 ...          ...          ...         ...         ...   \n",
       "2020-05-14  2794.540039  2852.800049  2766.639893  2852.50000  2852.50000   \n",
       "\n",
       "                Volume  \n",
       "Date                    \n",
       "2015-05-15  3092080000  \n",
       "...                ...  \n",
       "2020-05-14  5641920000  \n",
       "\n",
       "[1209 rows x 6 columns]"
      ]
     },
     "execution_count": 5,
     "metadata": {},
     "output_type": "execute_result"
    }
   ],
   "source": [
    "B = pd.read_csv('B.csv', parse_dates=True, index_col=0); B"
   ]
  },
  {
   "cell_type": "code",
   "execution_count": 6,
   "metadata": {},
   "outputs": [
    {
     "data": {
      "text/html": [
       "<div>\n",
       "<style scoped>\n",
       "    .dataframe tbody tr th:only-of-type {\n",
       "        vertical-align: middle;\n",
       "    }\n",
       "\n",
       "    .dataframe tbody tr th {\n",
       "        vertical-align: top;\n",
       "    }\n",
       "\n",
       "    .dataframe thead th {\n",
       "        text-align: right;\n",
       "    }\n",
       "</style>\n",
       "<table border=\"1\" class=\"dataframe\">\n",
       "  <thead>\n",
       "    <tr style=\"text-align: right;\">\n",
       "      <th></th>\n",
       "      <th>Open</th>\n",
       "      <th>High</th>\n",
       "      <th>Low</th>\n",
       "      <th>Close</th>\n",
       "      <th>Adj Close</th>\n",
       "      <th>Volume</th>\n",
       "    </tr>\n",
       "    <tr>\n",
       "      <th>Date</th>\n",
       "      <th></th>\n",
       "      <th></th>\n",
       "      <th></th>\n",
       "      <th></th>\n",
       "      <th></th>\n",
       "      <th></th>\n",
       "    </tr>\n",
       "  </thead>\n",
       "  <tbody>\n",
       "    <tr>\n",
       "      <th>2015-05-15</th>\n",
       "      <td>12.46</td>\n",
       "      <td>13.090000</td>\n",
       "      <td>12.350000</td>\n",
       "      <td>12.380000</td>\n",
       "      <td>12.380000</td>\n",
       "      <td>0</td>\n",
       "    </tr>\n",
       "    <tr>\n",
       "      <th>...</th>\n",
       "      <td>...</td>\n",
       "      <td>...</td>\n",
       "      <td>...</td>\n",
       "      <td>...</td>\n",
       "      <td>...</td>\n",
       "      <td>...</td>\n",
       "    </tr>\n",
       "    <tr>\n",
       "      <th>2020-05-14</th>\n",
       "      <td>35.16</td>\n",
       "      <td>39.279999</td>\n",
       "      <td>32.330002</td>\n",
       "      <td>32.610001</td>\n",
       "      <td>32.610001</td>\n",
       "      <td>0</td>\n",
       "    </tr>\n",
       "  </tbody>\n",
       "</table>\n",
       "<p>1206 rows × 6 columns</p>\n",
       "</div>"
      ],
      "text/plain": [
       "             Open       High        Low      Close  Adj Close  Volume\n",
       "Date                                                                 \n",
       "2015-05-15  12.46  13.090000  12.350000  12.380000  12.380000       0\n",
       "...           ...        ...        ...        ...        ...     ...\n",
       "2020-05-14  35.16  39.279999  32.330002  32.610001  32.610001       0\n",
       "\n",
       "[1206 rows x 6 columns]"
      ]
     },
     "execution_count": 6,
     "metadata": {},
     "output_type": "execute_result"
    }
   ],
   "source": [
    "C = pd.read_csv('C.csv', parse_dates=True, index_col=0); C"
   ]
  },
  {
   "cell_type": "code",
   "execution_count": 7,
   "metadata": {},
   "outputs": [],
   "source": [
    "# Data Munging"
   ]
  },
  {
   "cell_type": "code",
   "execution_count": 8,
   "metadata": {},
   "outputs": [],
   "source": [
    "merged_df = A.join(B, how='outer', lsuffix='_A', sort=True).join(C, how='outer', lsuffix='_B', rsuffix='_C', sort=True)"
   ]
  },
  {
   "cell_type": "code",
   "execution_count": 9,
   "metadata": {},
   "outputs": [
    {
     "data": {
      "text/html": [
       "<div>\n",
       "<style scoped>\n",
       "    .dataframe tbody tr th:only-of-type {\n",
       "        vertical-align: middle;\n",
       "    }\n",
       "\n",
       "    .dataframe tbody tr th {\n",
       "        vertical-align: top;\n",
       "    }\n",
       "\n",
       "    .dataframe thead th {\n",
       "        text-align: right;\n",
       "    }\n",
       "</style>\n",
       "<table border=\"1\" class=\"dataframe\">\n",
       "  <thead>\n",
       "    <tr style=\"text-align: right;\">\n",
       "      <th></th>\n",
       "      <th>Open_A</th>\n",
       "      <th>High_A</th>\n",
       "      <th>Low_A</th>\n",
       "      <th>Close_A</th>\n",
       "      <th>Adj Close_A</th>\n",
       "      <th>Volume_A</th>\n",
       "      <th>Open_B</th>\n",
       "      <th>High_B</th>\n",
       "      <th>Low_B</th>\n",
       "      <th>Close_B</th>\n",
       "      <th>Adj Close_B</th>\n",
       "      <th>Volume_B</th>\n",
       "      <th>Open_C</th>\n",
       "      <th>High_C</th>\n",
       "      <th>Low_C</th>\n",
       "      <th>Close_C</th>\n",
       "      <th>Adj Close_C</th>\n",
       "      <th>Volume_C</th>\n",
       "    </tr>\n",
       "    <tr>\n",
       "      <th>Date</th>\n",
       "      <th></th>\n",
       "      <th></th>\n",
       "      <th></th>\n",
       "      <th></th>\n",
       "      <th></th>\n",
       "      <th></th>\n",
       "      <th></th>\n",
       "      <th></th>\n",
       "      <th></th>\n",
       "      <th></th>\n",
       "      <th></th>\n",
       "      <th></th>\n",
       "      <th></th>\n",
       "      <th></th>\n",
       "      <th></th>\n",
       "      <th></th>\n",
       "      <th></th>\n",
       "      <th></th>\n",
       "    </tr>\n",
       "  </thead>\n",
       "  <tbody>\n",
       "    <tr>\n",
       "      <th>2015-05-15</th>\n",
       "      <td>18251.970703</td>\n",
       "      <td>18272.720703</td>\n",
       "      <td>18215.070313</td>\n",
       "      <td>18272.560547</td>\n",
       "      <td>18272.560547</td>\n",
       "      <td>108220000.0</td>\n",
       "      <td>2122.070068</td>\n",
       "      <td>2123.889893</td>\n",
       "      <td>2116.810059</td>\n",
       "      <td>2122.72998</td>\n",
       "      <td>2122.72998</td>\n",
       "      <td>3.092080e+09</td>\n",
       "      <td>12.46</td>\n",
       "      <td>13.090000</td>\n",
       "      <td>12.350000</td>\n",
       "      <td>12.380000</td>\n",
       "      <td>12.380000</td>\n",
       "      <td>0.0</td>\n",
       "    </tr>\n",
       "    <tr>\n",
       "      <th>...</th>\n",
       "      <td>...</td>\n",
       "      <td>...</td>\n",
       "      <td>...</td>\n",
       "      <td>...</td>\n",
       "      <td>...</td>\n",
       "      <td>...</td>\n",
       "      <td>...</td>\n",
       "      <td>...</td>\n",
       "      <td>...</td>\n",
       "      <td>...</td>\n",
       "      <td>...</td>\n",
       "      <td>...</td>\n",
       "      <td>...</td>\n",
       "      <td>...</td>\n",
       "      <td>...</td>\n",
       "      <td>...</td>\n",
       "      <td>...</td>\n",
       "      <td>...</td>\n",
       "    </tr>\n",
       "    <tr>\n",
       "      <th>2020-05-14</th>\n",
       "      <td>23049.060547</td>\n",
       "      <td>23630.859375</td>\n",
       "      <td>22789.619141</td>\n",
       "      <td>23625.339844</td>\n",
       "      <td>23625.339844</td>\n",
       "      <td>472700000.0</td>\n",
       "      <td>2794.540039</td>\n",
       "      <td>2852.800049</td>\n",
       "      <td>2766.639893</td>\n",
       "      <td>2852.50000</td>\n",
       "      <td>2852.50000</td>\n",
       "      <td>5.641920e+09</td>\n",
       "      <td>35.16</td>\n",
       "      <td>39.279999</td>\n",
       "      <td>32.330002</td>\n",
       "      <td>32.610001</td>\n",
       "      <td>32.610001</td>\n",
       "      <td>0.0</td>\n",
       "    </tr>\n",
       "  </tbody>\n",
       "</table>\n",
       "<p>1259 rows × 18 columns</p>\n",
       "</div>"
      ],
      "text/plain": [
       "                  Open_A        High_A         Low_A       Close_A  \\\n",
       "Date                                                                 \n",
       "2015-05-15  18251.970703  18272.720703  18215.070313  18272.560547   \n",
       "...                  ...           ...           ...           ...   \n",
       "2020-05-14  23049.060547  23630.859375  22789.619141  23625.339844   \n",
       "\n",
       "             Adj Close_A     Volume_A       Open_B       High_B        Low_B  \\\n",
       "Date                                                                           \n",
       "2015-05-15  18272.560547  108220000.0  2122.070068  2123.889893  2116.810059   \n",
       "...                  ...          ...          ...          ...          ...   \n",
       "2020-05-14  23625.339844  472700000.0  2794.540039  2852.800049  2766.639893   \n",
       "\n",
       "               Close_B  Adj Close_B      Volume_B  Open_C     High_C  \\\n",
       "Date                                                                   \n",
       "2015-05-15  2122.72998   2122.72998  3.092080e+09   12.46  13.090000   \n",
       "...                ...          ...           ...     ...        ...   \n",
       "2020-05-14  2852.50000   2852.50000  5.641920e+09   35.16  39.279999   \n",
       "\n",
       "                Low_C    Close_C  Adj Close_C  Volume_C  \n",
       "Date                                                     \n",
       "2015-05-15  12.350000  12.380000    12.380000       0.0  \n",
       "...               ...        ...          ...       ...  \n",
       "2020-05-14  32.330002  32.610001    32.610001       0.0  \n",
       "\n",
       "[1259 rows x 18 columns]"
      ]
     },
     "execution_count": 9,
     "metadata": {},
     "output_type": "execute_result"
    }
   ],
   "source": [
    "merged_df"
   ]
  },
  {
   "cell_type": "code",
   "execution_count": 10,
   "metadata": {},
   "outputs": [],
   "source": [
    "# Data cleaning"
   ]
  },
  {
   "cell_type": "code",
   "execution_count": 11,
   "metadata": {},
   "outputs": [
    {
     "data": {
      "text/html": [
       "<div>\n",
       "<style scoped>\n",
       "    .dataframe tbody tr th:only-of-type {\n",
       "        vertical-align: middle;\n",
       "    }\n",
       "\n",
       "    .dataframe tbody tr th {\n",
       "        vertical-align: top;\n",
       "    }\n",
       "\n",
       "    .dataframe thead th {\n",
       "        text-align: right;\n",
       "    }\n",
       "</style>\n",
       "<table border=\"1\" class=\"dataframe\">\n",
       "  <thead>\n",
       "    <tr style=\"text-align: right;\">\n",
       "      <th></th>\n",
       "      <th>Open_A</th>\n",
       "      <th>High_A</th>\n",
       "      <th>Low_A</th>\n",
       "      <th>Close_A</th>\n",
       "      <th>Adj Close_A</th>\n",
       "      <th>Volume_A</th>\n",
       "      <th>Open_B</th>\n",
       "      <th>High_B</th>\n",
       "      <th>Low_B</th>\n",
       "      <th>Close_B</th>\n",
       "      <th>Adj Close_B</th>\n",
       "      <th>Volume_B</th>\n",
       "      <th>Open_C</th>\n",
       "      <th>High_C</th>\n",
       "      <th>Low_C</th>\n",
       "      <th>Close_C</th>\n",
       "      <th>Adj Close_C</th>\n",
       "      <th>Volume_C</th>\n",
       "    </tr>\n",
       "    <tr>\n",
       "      <th>Date</th>\n",
       "      <th></th>\n",
       "      <th></th>\n",
       "      <th></th>\n",
       "      <th></th>\n",
       "      <th></th>\n",
       "      <th></th>\n",
       "      <th></th>\n",
       "      <th></th>\n",
       "      <th></th>\n",
       "      <th></th>\n",
       "      <th></th>\n",
       "      <th></th>\n",
       "      <th></th>\n",
       "      <th></th>\n",
       "      <th></th>\n",
       "      <th></th>\n",
       "      <th></th>\n",
       "      <th></th>\n",
       "    </tr>\n",
       "  </thead>\n",
       "  <tbody>\n",
       "  </tbody>\n",
       "</table>\n",
       "</div>"
      ],
      "text/plain": [
       "Empty DataFrame\n",
       "Columns: [Open_A, High_A, Low_A, Close_A, Adj Close_A, Volume_A, Open_B, High_B, Low_B, Close_B, Adj Close_B, Volume_B, Open_C, High_C, Low_C, Close_C, Adj Close_C, Volume_C]\n",
       "Index: []"
      ]
     },
     "execution_count": 11,
     "metadata": {},
     "output_type": "execute_result"
    }
   ],
   "source": [
    "merged_df[merged_df.isnull().all(axis=1)]"
   ]
  },
  {
   "cell_type": "code",
   "execution_count": 12,
   "metadata": {},
   "outputs": [
    {
     "data": {
      "text/plain": [
       "148"
      ]
     },
     "execution_count": 12,
     "metadata": {},
     "output_type": "execute_result"
    }
   ],
   "source": [
    "merged_df[['Close_A', 'Close_B', 'Close_C']].isnull().any(axis=1).sum()"
   ]
  },
  {
   "cell_type": "code",
   "execution_count": 13,
   "metadata": {},
   "outputs": [],
   "source": [
    "valid_close_df = merged_df.dropna(subset=['Close_A', 'Close_B', 'Close_C'], how='any')"
   ]
  },
  {
   "cell_type": "code",
   "execution_count": 14,
   "metadata": {},
   "outputs": [
    {
     "data": {
      "text/plain": [
       "0"
      ]
     },
     "execution_count": 14,
     "metadata": {},
     "output_type": "execute_result"
    }
   ],
   "source": [
    "valid_close_df[['Close_A', 'Close_B', 'Close_C']].isnull().any(axis=1).sum()"
   ]
  },
  {
   "cell_type": "code",
   "execution_count": 15,
   "metadata": {},
   "outputs": [
    {
     "data": {
      "text/html": [
       "<div>\n",
       "<style scoped>\n",
       "    .dataframe tbody tr th:only-of-type {\n",
       "        vertical-align: middle;\n",
       "    }\n",
       "\n",
       "    .dataframe tbody tr th {\n",
       "        vertical-align: top;\n",
       "    }\n",
       "\n",
       "    .dataframe thead th {\n",
       "        text-align: right;\n",
       "    }\n",
       "</style>\n",
       "<table border=\"1\" class=\"dataframe\">\n",
       "  <thead>\n",
       "    <tr style=\"text-align: right;\">\n",
       "      <th></th>\n",
       "      <th>Open_A</th>\n",
       "      <th>High_A</th>\n",
       "      <th>Low_A</th>\n",
       "      <th>Close_A</th>\n",
       "      <th>Adj Close_A</th>\n",
       "      <th>Volume_A</th>\n",
       "      <th>Open_B</th>\n",
       "      <th>High_B</th>\n",
       "      <th>Low_B</th>\n",
       "      <th>Close_B</th>\n",
       "      <th>Adj Close_B</th>\n",
       "      <th>Volume_B</th>\n",
       "      <th>Open_C</th>\n",
       "      <th>High_C</th>\n",
       "      <th>Low_C</th>\n",
       "      <th>Close_C</th>\n",
       "      <th>Adj Close_C</th>\n",
       "      <th>Volume_C</th>\n",
       "    </tr>\n",
       "    <tr>\n",
       "      <th>Date</th>\n",
       "      <th></th>\n",
       "      <th></th>\n",
       "      <th></th>\n",
       "      <th></th>\n",
       "      <th></th>\n",
       "      <th></th>\n",
       "      <th></th>\n",
       "      <th></th>\n",
       "      <th></th>\n",
       "      <th></th>\n",
       "      <th></th>\n",
       "      <th></th>\n",
       "      <th></th>\n",
       "      <th></th>\n",
       "      <th></th>\n",
       "      <th></th>\n",
       "      <th></th>\n",
       "      <th></th>\n",
       "    </tr>\n",
       "  </thead>\n",
       "  <tbody>\n",
       "    <tr>\n",
       "      <th>2015-05-15</th>\n",
       "      <td>18251.970703</td>\n",
       "      <td>18272.720703</td>\n",
       "      <td>18215.070313</td>\n",
       "      <td>18272.560547</td>\n",
       "      <td>18272.560547</td>\n",
       "      <td>108220000.0</td>\n",
       "      <td>2122.070068</td>\n",
       "      <td>2123.889893</td>\n",
       "      <td>2116.810059</td>\n",
       "      <td>2122.72998</td>\n",
       "      <td>2122.72998</td>\n",
       "      <td>3.092080e+09</td>\n",
       "      <td>12.46</td>\n",
       "      <td>13.090000</td>\n",
       "      <td>12.350000</td>\n",
       "      <td>12.380000</td>\n",
       "      <td>12.380000</td>\n",
       "      <td>0.0</td>\n",
       "    </tr>\n",
       "    <tr>\n",
       "      <th>...</th>\n",
       "      <td>...</td>\n",
       "      <td>...</td>\n",
       "      <td>...</td>\n",
       "      <td>...</td>\n",
       "      <td>...</td>\n",
       "      <td>...</td>\n",
       "      <td>...</td>\n",
       "      <td>...</td>\n",
       "      <td>...</td>\n",
       "      <td>...</td>\n",
       "      <td>...</td>\n",
       "      <td>...</td>\n",
       "      <td>...</td>\n",
       "      <td>...</td>\n",
       "      <td>...</td>\n",
       "      <td>...</td>\n",
       "      <td>...</td>\n",
       "      <td>...</td>\n",
       "    </tr>\n",
       "    <tr>\n",
       "      <th>2020-05-14</th>\n",
       "      <td>23049.060547</td>\n",
       "      <td>23630.859375</td>\n",
       "      <td>22789.619141</td>\n",
       "      <td>23625.339844</td>\n",
       "      <td>23625.339844</td>\n",
       "      <td>472700000.0</td>\n",
       "      <td>2794.540039</td>\n",
       "      <td>2852.800049</td>\n",
       "      <td>2766.639893</td>\n",
       "      <td>2852.50000</td>\n",
       "      <td>2852.50000</td>\n",
       "      <td>5.641920e+09</td>\n",
       "      <td>35.16</td>\n",
       "      <td>39.279999</td>\n",
       "      <td>32.330002</td>\n",
       "      <td>32.610001</td>\n",
       "      <td>32.610001</td>\n",
       "      <td>0.0</td>\n",
       "    </tr>\n",
       "  </tbody>\n",
       "</table>\n",
       "<p>1111 rows × 18 columns</p>\n",
       "</div>"
      ],
      "text/plain": [
       "                  Open_A        High_A         Low_A       Close_A  \\\n",
       "Date                                                                 \n",
       "2015-05-15  18251.970703  18272.720703  18215.070313  18272.560547   \n",
       "...                  ...           ...           ...           ...   \n",
       "2020-05-14  23049.060547  23630.859375  22789.619141  23625.339844   \n",
       "\n",
       "             Adj Close_A     Volume_A       Open_B       High_B        Low_B  \\\n",
       "Date                                                                           \n",
       "2015-05-15  18272.560547  108220000.0  2122.070068  2123.889893  2116.810059   \n",
       "...                  ...          ...          ...          ...          ...   \n",
       "2020-05-14  23625.339844  472700000.0  2794.540039  2852.800049  2766.639893   \n",
       "\n",
       "               Close_B  Adj Close_B      Volume_B  Open_C     High_C  \\\n",
       "Date                                                                   \n",
       "2015-05-15  2122.72998   2122.72998  3.092080e+09   12.46  13.090000   \n",
       "...                ...          ...           ...     ...        ...   \n",
       "2020-05-14  2852.50000   2852.50000  5.641920e+09   35.16  39.279999   \n",
       "\n",
       "                Low_C    Close_C  Adj Close_C  Volume_C  \n",
       "Date                                                     \n",
       "2015-05-15  12.350000  12.380000    12.380000       0.0  \n",
       "...               ...        ...          ...       ...  \n",
       "2020-05-14  32.330002  32.610001    32.610001       0.0  \n",
       "\n",
       "[1111 rows x 18 columns]"
      ]
     },
     "execution_count": 15,
     "metadata": {},
     "output_type": "execute_result"
    }
   ],
   "source": [
    "valid_close_df"
   ]
  },
  {
   "cell_type": "code",
   "execution_count": 16,
   "metadata": {},
   "outputs": [
    {
     "data": {
      "text/plain": [
       "165"
      ]
     },
     "execution_count": 16,
     "metadata": {},
     "output_type": "execute_result"
    }
   ],
   "source": [
    "valid_close_df.isnull().any(axis=1).sum()"
   ]
  },
  {
   "cell_type": "code",
   "execution_count": 17,
   "metadata": {},
   "outputs": [
    {
     "data": {
      "text/html": [
       "<div>\n",
       "<style scoped>\n",
       "    .dataframe tbody tr th:only-of-type {\n",
       "        vertical-align: middle;\n",
       "    }\n",
       "\n",
       "    .dataframe tbody tr th {\n",
       "        vertical-align: top;\n",
       "    }\n",
       "\n",
       "    .dataframe thead th {\n",
       "        text-align: right;\n",
       "    }\n",
       "</style>\n",
       "<table border=\"1\" class=\"dataframe\">\n",
       "  <thead>\n",
       "    <tr style=\"text-align: right;\">\n",
       "      <th></th>\n",
       "      <th>Open_A</th>\n",
       "      <th>High_A</th>\n",
       "      <th>Low_A</th>\n",
       "      <th>Close_A</th>\n",
       "      <th>Adj Close_A</th>\n",
       "      <th>Volume_A</th>\n",
       "      <th>Open_B</th>\n",
       "      <th>High_B</th>\n",
       "      <th>Low_B</th>\n",
       "      <th>Close_B</th>\n",
       "      <th>Adj Close_B</th>\n",
       "      <th>Volume_B</th>\n",
       "      <th>Open_C</th>\n",
       "      <th>High_C</th>\n",
       "      <th>Low_C</th>\n",
       "      <th>Close_C</th>\n",
       "      <th>Adj Close_C</th>\n",
       "      <th>Volume_C</th>\n",
       "    </tr>\n",
       "    <tr>\n",
       "      <th>Date</th>\n",
       "      <th></th>\n",
       "      <th></th>\n",
       "      <th></th>\n",
       "      <th></th>\n",
       "      <th></th>\n",
       "      <th></th>\n",
       "      <th></th>\n",
       "      <th></th>\n",
       "      <th></th>\n",
       "      <th></th>\n",
       "      <th></th>\n",
       "      <th></th>\n",
       "      <th></th>\n",
       "      <th></th>\n",
       "      <th></th>\n",
       "      <th></th>\n",
       "      <th></th>\n",
       "      <th></th>\n",
       "    </tr>\n",
       "  </thead>\n",
       "  <tbody>\n",
       "    <tr>\n",
       "      <th>2015-05-18</th>\n",
       "      <td>18267.250000</td>\n",
       "      <td>18325.539063</td>\n",
       "      <td>18244.259766</td>\n",
       "      <td>18298.880859</td>\n",
       "      <td>18298.880859</td>\n",
       "      <td>79080000.0</td>\n",
       "      <td>2121.300049</td>\n",
       "      <td>2131.780029</td>\n",
       "      <td>2120.010010</td>\n",
       "      <td>2129.199951</td>\n",
       "      <td>2129.199951</td>\n",
       "      <td>2.888190e+09</td>\n",
       "      <td>13.080000</td>\n",
       "      <td>13.22</td>\n",
       "      <td>NaN</td>\n",
       "      <td>12.730000</td>\n",
       "      <td>12.730000</td>\n",
       "      <td>0.0</td>\n",
       "    </tr>\n",
       "    <tr>\n",
       "      <th>...</th>\n",
       "      <td>...</td>\n",
       "      <td>...</td>\n",
       "      <td>...</td>\n",
       "      <td>...</td>\n",
       "      <td>...</td>\n",
       "      <td>...</td>\n",
       "      <td>...</td>\n",
       "      <td>...</td>\n",
       "      <td>...</td>\n",
       "      <td>...</td>\n",
       "      <td>...</td>\n",
       "      <td>...</td>\n",
       "      <td>...</td>\n",
       "      <td>...</td>\n",
       "      <td>...</td>\n",
       "      <td>...</td>\n",
       "      <td>...</td>\n",
       "      <td>...</td>\n",
       "    </tr>\n",
       "    <tr>\n",
       "      <th>2020-05-01</th>\n",
       "      <td>24120.779297</td>\n",
       "      <td>24120.779297</td>\n",
       "      <td>23645.300781</td>\n",
       "      <td>23723.689453</td>\n",
       "      <td>23723.689453</td>\n",
       "      <td>418160000.0</td>\n",
       "      <td>NaN</td>\n",
       "      <td>2869.090088</td>\n",
       "      <td>2821.610107</td>\n",
       "      <td>2830.709961</td>\n",
       "      <td>2830.709961</td>\n",
       "      <td>4.753160e+09</td>\n",
       "      <td>38.169998</td>\n",
       "      <td>39.57</td>\n",
       "      <td>36.59</td>\n",
       "      <td>37.189999</td>\n",
       "      <td>37.189999</td>\n",
       "      <td>0.0</td>\n",
       "    </tr>\n",
       "  </tbody>\n",
       "</table>\n",
       "<p>165 rows × 18 columns</p>\n",
       "</div>"
      ],
      "text/plain": [
       "                  Open_A        High_A         Low_A       Close_A  \\\n",
       "Date                                                                 \n",
       "2015-05-18  18267.250000  18325.539063  18244.259766  18298.880859   \n",
       "...                  ...           ...           ...           ...   \n",
       "2020-05-01  24120.779297  24120.779297  23645.300781  23723.689453   \n",
       "\n",
       "             Adj Close_A     Volume_A       Open_B       High_B        Low_B  \\\n",
       "Date                                                                           \n",
       "2015-05-18  18298.880859   79080000.0  2121.300049  2131.780029  2120.010010   \n",
       "...                  ...          ...          ...          ...          ...   \n",
       "2020-05-01  23723.689453  418160000.0          NaN  2869.090088  2821.610107   \n",
       "\n",
       "                Close_B  Adj Close_B      Volume_B     Open_C  High_C  Low_C  \\\n",
       "Date                                                                           \n",
       "2015-05-18  2129.199951  2129.199951  2.888190e+09  13.080000   13.22    NaN   \n",
       "...                 ...          ...           ...        ...     ...    ...   \n",
       "2020-05-01  2830.709961  2830.709961  4.753160e+09  38.169998   39.57  36.59   \n",
       "\n",
       "              Close_C  Adj Close_C  Volume_C  \n",
       "Date                                          \n",
       "2015-05-18  12.730000    12.730000       0.0  \n",
       "...               ...          ...       ...  \n",
       "2020-05-01  37.189999    37.189999       0.0  \n",
       "\n",
       "[165 rows x 18 columns]"
      ]
     },
     "execution_count": 17,
     "metadata": {},
     "output_type": "execute_result"
    }
   ],
   "source": [
    "valid_close_df[valid_close_df.isnull().any(axis=1)]"
   ]
  },
  {
   "cell_type": "code",
   "execution_count": 18,
   "metadata": {},
   "outputs": [],
   "source": [
    "valid_close_complete = valid_close_df.fillna(method='backfill')"
   ]
  },
  {
   "cell_type": "code",
   "execution_count": 19,
   "metadata": {},
   "outputs": [
    {
     "data": {
      "text/plain": [
       "0"
      ]
     },
     "execution_count": 19,
     "metadata": {},
     "output_type": "execute_result"
    }
   ],
   "source": [
    "valid_close_complete.isnull().any(axis=1).sum()"
   ]
  },
  {
   "cell_type": "code",
   "execution_count": 20,
   "metadata": {},
   "outputs": [],
   "source": [
    "# Descriptive Statistics"
   ]
  },
  {
   "cell_type": "code",
   "execution_count": 21,
   "metadata": {},
   "outputs": [
    {
     "data": {
      "text/html": [
       "<div>\n",
       "<style scoped>\n",
       "    .dataframe tbody tr th:only-of-type {\n",
       "        vertical-align: middle;\n",
       "    }\n",
       "\n",
       "    .dataframe tbody tr th {\n",
       "        vertical-align: top;\n",
       "    }\n",
       "\n",
       "    .dataframe thead th {\n",
       "        text-align: right;\n",
       "    }\n",
       "</style>\n",
       "<table border=\"1\" class=\"dataframe\">\n",
       "  <thead>\n",
       "    <tr style=\"text-align: right;\">\n",
       "      <th></th>\n",
       "      <th>Open_A</th>\n",
       "      <th>High_A</th>\n",
       "      <th>Low_A</th>\n",
       "      <th>Close_A</th>\n",
       "      <th>Adj Close_A</th>\n",
       "      <th>Volume_A</th>\n",
       "      <th>Open_B</th>\n",
       "      <th>High_B</th>\n",
       "      <th>Low_B</th>\n",
       "      <th>Close_B</th>\n",
       "      <th>Adj Close_B</th>\n",
       "      <th>Volume_B</th>\n",
       "      <th>Open_C</th>\n",
       "      <th>High_C</th>\n",
       "      <th>Low_C</th>\n",
       "      <th>Close_C</th>\n",
       "      <th>Adj Close_C</th>\n",
       "      <th>Volume_C</th>\n",
       "    </tr>\n",
       "  </thead>\n",
       "  <tbody>\n",
       "    <tr>\n",
       "      <th>count</th>\n",
       "      <td>1111.000000</td>\n",
       "      <td>1111.000000</td>\n",
       "      <td>1111.000000</td>\n",
       "      <td>1111.000000</td>\n",
       "      <td>1111.000000</td>\n",
       "      <td>1.111000e+03</td>\n",
       "      <td>1111.000000</td>\n",
       "      <td>1111.000000</td>\n",
       "      <td>1111.000000</td>\n",
       "      <td>1111.000000</td>\n",
       "      <td>1111.000000</td>\n",
       "      <td>1.111000e+03</td>\n",
       "      <td>1111.000000</td>\n",
       "      <td>1111.000000</td>\n",
       "      <td>1111.000000</td>\n",
       "      <td>1111.000000</td>\n",
       "      <td>1111.000000</td>\n",
       "      <td>1111.0</td>\n",
       "    </tr>\n",
       "    <tr>\n",
       "      <th>mean</th>\n",
       "      <td>22291.125036</td>\n",
       "      <td>22402.395046</td>\n",
       "      <td>22168.922744</td>\n",
       "      <td>22292.881128</td>\n",
       "      <td>22292.531416</td>\n",
       "      <td>2.614436e+08</td>\n",
       "      <td>2517.857235</td>\n",
       "      <td>2529.804546</td>\n",
       "      <td>2504.360406</td>\n",
       "      <td>2518.053995</td>\n",
       "      <td>2518.053995</td>\n",
       "      <td>3.746609e+09</td>\n",
       "      <td>14.628353</td>\n",
       "      <td>17.614230</td>\n",
       "      <td>16.655851</td>\n",
       "      <td>16.417606</td>\n",
       "      <td>16.417606</td>\n",
       "      <td>0.0</td>\n",
       "    </tr>\n",
       "    <tr>\n",
       "      <th>std</th>\n",
       "      <td>3771.056417</td>\n",
       "      <td>3784.558787</td>\n",
       "      <td>3755.740756</td>\n",
       "      <td>3769.395516</td>\n",
       "      <td>3767.906829</td>\n",
       "      <td>1.537677e+08</td>\n",
       "      <td>374.081451</td>\n",
       "      <td>375.376401</td>\n",
       "      <td>373.086693</td>\n",
       "      <td>374.314671</td>\n",
       "      <td>374.314671</td>\n",
       "      <td>9.013618e+08</td>\n",
       "      <td>29.023906</td>\n",
       "      <td>9.056045</td>\n",
       "      <td>20.123487</td>\n",
       "      <td>8.016538</td>\n",
       "      <td>8.016538</td>\n",
       "      <td>0.0</td>\n",
       "    </tr>\n",
       "    <tr>\n",
       "      <th>min</th>\n",
       "      <td>15676.259766</td>\n",
       "      <td>15897.820313</td>\n",
       "      <td>15370.330078</td>\n",
       "      <td>15660.179688</td>\n",
       "      <td>15660.179688</td>\n",
       "      <td>4.589000e+07</td>\n",
       "      <td>1833.400024</td>\n",
       "      <td>1847.000000</td>\n",
       "      <td>1810.099976</td>\n",
       "      <td>1829.079956</td>\n",
       "      <td>1829.079956</td>\n",
       "      <td>1.296540e+09</td>\n",
       "      <td>-400.000000</td>\n",
       "      <td>9.310000</td>\n",
       "      <td>8.560000</td>\n",
       "      <td>9.140000</td>\n",
       "      <td>9.140000</td>\n",
       "      <td>0.0</td>\n",
       "    </tr>\n",
       "    <tr>\n",
       "      <th>25%</th>\n",
       "      <td>18232.280274</td>\n",
       "      <td>18285.384766</td>\n",
       "      <td>18156.614258</td>\n",
       "      <td>18230.160156</td>\n",
       "      <td>18227.615235</td>\n",
       "      <td>1.233350e+08</td>\n",
       "      <td>2144.320069</td>\n",
       "      <td>2152.525024</td>\n",
       "      <td>2134.464966</td>\n",
       "      <td>2142.250000</td>\n",
       "      <td>2142.250000</td>\n",
       "      <td>3.247990e+09</td>\n",
       "      <td>12.405000</td>\n",
       "      <td>12.900000</td>\n",
       "      <td>11.875000</td>\n",
       "      <td>12.300000</td>\n",
       "      <td>12.300000</td>\n",
       "      <td>0.0</td>\n",
       "    </tr>\n",
       "    <tr>\n",
       "      <th>50%</th>\n",
       "      <td>22762.029297</td>\n",
       "      <td>22872.890625</td>\n",
       "      <td>22634.449219</td>\n",
       "      <td>22773.669922</td>\n",
       "      <td>22773.669922</td>\n",
       "      <td>2.631800e+08</td>\n",
       "      <td>2521.199951</td>\n",
       "      <td>2551.820068</td>\n",
       "      <td>2503.189941</td>\n",
       "      <td>2531.939941</td>\n",
       "      <td>2531.939941</td>\n",
       "      <td>3.560770e+09</td>\n",
       "      <td>14.190000</td>\n",
       "      <td>15.010000</td>\n",
       "      <td>13.470000</td>\n",
       "      <td>14.090000</td>\n",
       "      <td>14.090000</td>\n",
       "      <td>0.0</td>\n",
       "    </tr>\n",
       "    <tr>\n",
       "      <th>75%</th>\n",
       "      <td>25516.320312</td>\n",
       "      <td>25659.810547</td>\n",
       "      <td>25382.705078</td>\n",
       "      <td>25518.895508</td>\n",
       "      <td>25518.895508</td>\n",
       "      <td>3.328450e+08</td>\n",
       "      <td>2815.010010</td>\n",
       "      <td>2831.880004</td>\n",
       "      <td>2800.239991</td>\n",
       "      <td>2817.330078</td>\n",
       "      <td>2817.330078</td>\n",
       "      <td>3.967360e+09</td>\n",
       "      <td>17.685001</td>\n",
       "      <td>19.040001</td>\n",
       "      <td>16.809999</td>\n",
       "      <td>17.665000</td>\n",
       "      <td>17.665000</td>\n",
       "      <td>0.0</td>\n",
       "    </tr>\n",
       "    <tr>\n",
       "      <th>max</th>\n",
       "      <td>29440.470703</td>\n",
       "      <td>29568.570313</td>\n",
       "      <td>29406.750000</td>\n",
       "      <td>29551.419922</td>\n",
       "      <td>29551.419922</td>\n",
       "      <td>2.190810e+09</td>\n",
       "      <td>3380.449951</td>\n",
       "      <td>3393.520020</td>\n",
       "      <td>3378.830078</td>\n",
       "      <td>3386.149902</td>\n",
       "      <td>3386.149902</td>\n",
       "      <td>9.044690e+09</td>\n",
       "      <td>82.690002</td>\n",
       "      <td>85.470001</td>\n",
       "      <td>330.000000</td>\n",
       "      <td>82.690002</td>\n",
       "      <td>82.690002</td>\n",
       "      <td>0.0</td>\n",
       "    </tr>\n",
       "  </tbody>\n",
       "</table>\n",
       "</div>"
      ],
      "text/plain": [
       "             Open_A        High_A         Low_A       Close_A   Adj Close_A  \\\n",
       "count   1111.000000   1111.000000   1111.000000   1111.000000   1111.000000   \n",
       "mean   22291.125036  22402.395046  22168.922744  22292.881128  22292.531416   \n",
       "std     3771.056417   3784.558787   3755.740756   3769.395516   3767.906829   \n",
       "min    15676.259766  15897.820313  15370.330078  15660.179688  15660.179688   \n",
       "25%    18232.280274  18285.384766  18156.614258  18230.160156  18227.615235   \n",
       "50%    22762.029297  22872.890625  22634.449219  22773.669922  22773.669922   \n",
       "75%    25516.320312  25659.810547  25382.705078  25518.895508  25518.895508   \n",
       "max    29440.470703  29568.570313  29406.750000  29551.419922  29551.419922   \n",
       "\n",
       "           Volume_A       Open_B       High_B        Low_B      Close_B  \\\n",
       "count  1.111000e+03  1111.000000  1111.000000  1111.000000  1111.000000   \n",
       "mean   2.614436e+08  2517.857235  2529.804546  2504.360406  2518.053995   \n",
       "std    1.537677e+08   374.081451   375.376401   373.086693   374.314671   \n",
       "min    4.589000e+07  1833.400024  1847.000000  1810.099976  1829.079956   \n",
       "25%    1.233350e+08  2144.320069  2152.525024  2134.464966  2142.250000   \n",
       "50%    2.631800e+08  2521.199951  2551.820068  2503.189941  2531.939941   \n",
       "75%    3.328450e+08  2815.010010  2831.880004  2800.239991  2817.330078   \n",
       "max    2.190810e+09  3380.449951  3393.520020  3378.830078  3386.149902   \n",
       "\n",
       "       Adj Close_B      Volume_B       Open_C       High_C        Low_C  \\\n",
       "count  1111.000000  1.111000e+03  1111.000000  1111.000000  1111.000000   \n",
       "mean   2518.053995  3.746609e+09    14.628353    17.614230    16.655851   \n",
       "std     374.314671  9.013618e+08    29.023906     9.056045    20.123487   \n",
       "min    1829.079956  1.296540e+09  -400.000000     9.310000     8.560000   \n",
       "25%    2142.250000  3.247990e+09    12.405000    12.900000    11.875000   \n",
       "50%    2531.939941  3.560770e+09    14.190000    15.010000    13.470000   \n",
       "75%    2817.330078  3.967360e+09    17.685001    19.040001    16.809999   \n",
       "max    3386.149902  9.044690e+09    82.690002    85.470001   330.000000   \n",
       "\n",
       "           Close_C  Adj Close_C  Volume_C  \n",
       "count  1111.000000  1111.000000    1111.0  \n",
       "mean     16.417606    16.417606       0.0  \n",
       "std       8.016538     8.016538       0.0  \n",
       "min       9.140000     9.140000       0.0  \n",
       "25%      12.300000    12.300000       0.0  \n",
       "50%      14.090000    14.090000       0.0  \n",
       "75%      17.665000    17.665000       0.0  \n",
       "max      82.690002    82.690002       0.0  "
      ]
     },
     "execution_count": 21,
     "metadata": {},
     "output_type": "execute_result"
    }
   ],
   "source": [
    "pd.set_option('display.max_rows', None)\n",
    "valid_close_complete.describe()"
   ]
  },
  {
   "cell_type": "code",
   "execution_count": 22,
   "metadata": {},
   "outputs": [],
   "source": [
    "pd.set_option('display.max_rows', 2)"
   ]
  },
  {
   "cell_type": "code",
   "execution_count": 23,
   "metadata": {},
   "outputs": [
    {
     "data": {
      "text/plain": [
       "<matplotlib.axes._subplots.AxesSubplot at 0x7f9015a8be10>"
      ]
     },
     "execution_count": 23,
     "metadata": {},
     "output_type": "execute_result"
    },
    {
     "data": {
      "image/png": "[encoded data removed]",
      "text/plain": [
       "<Figure size 864x432 with 1 Axes>"
      ]
     },
     "metadata": {
      "needs_background": "light"
     },
     "output_type": "display_data"
    }
   ],
   "source": [
    "valid_close_complete['Open_A'].plot(figsize=(12,6), linestyle='--', color='black', legend='Open_A')\n",
    "valid_close_complete['Close_A'].plot(figsize=(12,6), linestyle='-', color='grey', legend='Close_A')\n",
    "valid_close_complete['Low_A'].plot(figsize=(12,6), linestyle=':', color='black', legend='Low_A')\n",
    "valid_close_complete['High_A'].plot(figsize=(12,6), linestyle='-.', color='grey', legend='High_A')"
   ]
  },
  {
   "cell_type": "code",
   "execution_count": 24,
   "metadata": {},
   "outputs": [
    {
     "data": {
      "text/plain": [
       "<matplotlib.axes._subplots.AxesSubplot at 0x7f90132e9a58>"
      ]
     },
     "execution_count": 24,
     "metadata": {},
     "output_type": "execute_result"
    },
    {
     "data": {
      "image/png": "[encoded data removed]",
      "text/plain": [
       "<Figure size 864x432 with 1 Axes>"
      ]
     },
     "metadata": {
      "needs_background": "light"
     },
     "output_type": "display_data"
    }
   ],
   "source": [
    "valid_close_complete['Open_C'].plot(figsize=(12,6), linestyle='--', color='black', legend='Open_C')\n",
    "valid_close_complete['Close_C'].plot(figsize=(12,6), linestyle='-', color='grey', legend='Close_C')\n",
    "valid_close_complete['Low_C'].plot(figsize=(12,6), linestyle=':', color='black', legend='Low_C')\n",
    "valid_close_complete['High_C'].plot(figsize=(12,6), linestyle='-.', color='grey', legend='High_C')"
   ]
  },
  {
   "cell_type": "code",
   "execution_count": 25,
   "metadata": {},
   "outputs": [],
   "source": [
    "# Data cleaning"
   ]
  },
  {
   "cell_type": "code",
   "execution_count": 26,
   "metadata": {},
   "outputs": [],
   "source": [
    "prices_only = valid_close_complete.drop(['Volume_A', 'Volume_B', 'Volume_C'], axis=1)"
   ]
  },
  {
   "cell_type": "code",
   "execution_count": 27,
   "metadata": {},
   "outputs": [
    {
     "data": {
      "text/html": [
       "<div>\n",
       "<style scoped>\n",
       "    .dataframe tbody tr th:only-of-type {\n",
       "        vertical-align: middle;\n",
       "    }\n",
       "\n",
       "    .dataframe tbody tr th {\n",
       "        vertical-align: top;\n",
       "    }\n",
       "\n",
       "    .dataframe thead th {\n",
       "        text-align: right;\n",
       "    }\n",
       "</style>\n",
       "<table border=\"1\" class=\"dataframe\">\n",
       "  <thead>\n",
       "    <tr style=\"text-align: right;\">\n",
       "      <th></th>\n",
       "      <th>Open_A</th>\n",
       "      <th>High_A</th>\n",
       "      <th>Low_A</th>\n",
       "      <th>Close_A</th>\n",
       "      <th>Adj Close_A</th>\n",
       "      <th>Open_B</th>\n",
       "      <th>High_B</th>\n",
       "      <th>Low_B</th>\n",
       "      <th>Close_B</th>\n",
       "      <th>Adj Close_B</th>\n",
       "      <th>Open_C</th>\n",
       "      <th>High_C</th>\n",
       "      <th>Low_C</th>\n",
       "      <th>Close_C</th>\n",
       "      <th>Adj Close_C</th>\n",
       "    </tr>\n",
       "    <tr>\n",
       "      <th>Date</th>\n",
       "      <th></th>\n",
       "      <th></th>\n",
       "      <th></th>\n",
       "      <th></th>\n",
       "      <th></th>\n",
       "      <th></th>\n",
       "      <th></th>\n",
       "      <th></th>\n",
       "      <th></th>\n",
       "      <th></th>\n",
       "      <th></th>\n",
       "      <th></th>\n",
       "      <th></th>\n",
       "      <th></th>\n",
       "      <th></th>\n",
       "    </tr>\n",
       "  </thead>\n",
       "  <tbody>\n",
       "    <tr>\n",
       "      <th>2015-05-15</th>\n",
       "      <td>18251.970703</td>\n",
       "      <td>18272.720703</td>\n",
       "      <td>18215.070313</td>\n",
       "      <td>18272.560547</td>\n",
       "      <td>18272.560547</td>\n",
       "      <td>2122.070068</td>\n",
       "      <td>2123.889893</td>\n",
       "      <td>2116.810059</td>\n",
       "      <td>2122.72998</td>\n",
       "      <td>2122.72998</td>\n",
       "      <td>12.46</td>\n",
       "      <td>13.090000</td>\n",
       "      <td>12.350000</td>\n",
       "      <td>12.380000</td>\n",
       "      <td>12.380000</td>\n",
       "    </tr>\n",
       "    <tr>\n",
       "      <th>...</th>\n",
       "      <td>...</td>\n",
       "      <td>...</td>\n",
       "      <td>...</td>\n",
       "      <td>...</td>\n",
       "      <td>...</td>\n",
       "      <td>...</td>\n",
       "      <td>...</td>\n",
       "      <td>...</td>\n",
       "      <td>...</td>\n",
       "      <td>...</td>\n",
       "      <td>...</td>\n",
       "      <td>...</td>\n",
       "      <td>...</td>\n",
       "      <td>...</td>\n",
       "      <td>...</td>\n",
       "    </tr>\n",
       "    <tr>\n",
       "      <th>2020-05-14</th>\n",
       "      <td>23049.060547</td>\n",
       "      <td>23630.859375</td>\n",
       "      <td>22789.619141</td>\n",
       "      <td>23625.339844</td>\n",
       "      <td>23625.339844</td>\n",
       "      <td>2794.540039</td>\n",
       "      <td>2852.800049</td>\n",
       "      <td>2766.639893</td>\n",
       "      <td>2852.50000</td>\n",
       "      <td>2852.50000</td>\n",
       "      <td>35.16</td>\n",
       "      <td>39.279999</td>\n",
       "      <td>32.330002</td>\n",
       "      <td>32.610001</td>\n",
       "      <td>32.610001</td>\n",
       "    </tr>\n",
       "  </tbody>\n",
       "</table>\n",
       "<p>1111 rows × 15 columns</p>\n",
       "</div>"
      ],
      "text/plain": [
       "                  Open_A        High_A         Low_A       Close_A  \\\n",
       "Date                                                                 \n",
       "2015-05-15  18251.970703  18272.720703  18215.070313  18272.560547   \n",
       "...                  ...           ...           ...           ...   \n",
       "2020-05-14  23049.060547  23630.859375  22789.619141  23625.339844   \n",
       "\n",
       "             Adj Close_A       Open_B       High_B        Low_B     Close_B  \\\n",
       "Date                                                                          \n",
       "2015-05-15  18272.560547  2122.070068  2123.889893  2116.810059  2122.72998   \n",
       "...                  ...          ...          ...          ...         ...   \n",
       "2020-05-14  23625.339844  2794.540039  2852.800049  2766.639893  2852.50000   \n",
       "\n",
       "            Adj Close_B  Open_C     High_C      Low_C    Close_C  Adj Close_C  \n",
       "Date                                                                           \n",
       "2015-05-15   2122.72998   12.46  13.090000  12.350000  12.380000    12.380000  \n",
       "...                 ...     ...        ...        ...        ...          ...  \n",
       "2020-05-14   2852.50000   35.16  39.279999  32.330002  32.610001    32.610001  \n",
       "\n",
       "[1111 rows x 15 columns]"
      ]
     },
     "execution_count": 27,
     "metadata": {},
     "output_type": "execute_result"
    }
   ],
   "source": [
    "prices_only"
   ]
  },
  {
   "cell_type": "code",
   "execution_count": 28,
   "metadata": {},
   "outputs": [],
   "source": [
    "from scipy import stats\n",
    "no_outlier_prices = prices_only[(np.abs(stats.zscore(prices_only)) < 6).all(axis=1)]"
   ]
  },
  {
   "cell_type": "code",
   "execution_count": 29,
   "metadata": {},
   "outputs": [
    {
     "data": {
      "text/plain": [
       "<matplotlib.axes._subplots.AxesSubplot at 0x7f9009a62940>"
      ]
     },
     "execution_count": 29,
     "metadata": {},
     "output_type": "execute_result"
    },
    {
     "data": {
      "image/png": "[encoded data removed]",
      "text/plain": [
       "<Figure size 864x432 with 1 Axes>"
      ]
     },
     "metadata": {
      "needs_background": "light"
     },
     "output_type": "display_data"
    }
   ],
   "source": [
    "no_outlier_prices['Open_C'].plot(figsize=(12,6), linestyle='--', color='black', legend='Open_C')\n",
    "no_outlier_prices['Close_C'].plot(figsize=(12,6), linestyle='-', color='grey', legend='Close_C')\n",
    "no_outlier_prices['Low_C'].plot(figsize=(12,6), linestyle=':', color='black', legend='Low_C')\n",
    "no_outlier_prices['High_C'].plot(figsize=(12,6), linestyle='-.', color='grey', legend='High_C')"
   ]
  },
  {
   "cell_type": "code",
   "execution_count": 30,
   "metadata": {},
   "outputs": [
    {
     "data": {
      "text/html": [
       "<div>\n",
       "<style scoped>\n",
       "    .dataframe tbody tr th:only-of-type {\n",
       "        vertical-align: middle;\n",
       "    }\n",
       "\n",
       "    .dataframe tbody tr th {\n",
       "        vertical-align: top;\n",
       "    }\n",
       "\n",
       "    .dataframe thead th {\n",
       "        text-align: right;\n",
       "    }\n",
       "</style>\n",
       "<table border=\"1\" class=\"dataframe\">\n",
       "  <thead>\n",
       "    <tr style=\"text-align: right;\">\n",
       "      <th></th>\n",
       "      <th>Open_C</th>\n",
       "      <th>Close_C</th>\n",
       "      <th>Low_C</th>\n",
       "      <th>High_C</th>\n",
       "    </tr>\n",
       "  </thead>\n",
       "  <tbody>\n",
       "    <tr>\n",
       "      <th>count</th>\n",
       "      <td>1095.000000</td>\n",
       "      <td>1095.000000</td>\n",
       "      <td>1095.000000</td>\n",
       "      <td>1095.000000</td>\n",
       "    </tr>\n",
       "    <tr>\n",
       "      <th>mean</th>\n",
       "      <td>16.147571</td>\n",
       "      <td>16.072648</td>\n",
       "      <td>15.223635</td>\n",
       "      <td>17.214539</td>\n",
       "    </tr>\n",
       "    <tr>\n",
       "      <th>std</th>\n",
       "      <td>6.764147</td>\n",
       "      <td>6.773569</td>\n",
       "      <td>5.995822</td>\n",
       "      <td>7.588690</td>\n",
       "    </tr>\n",
       "    <tr>\n",
       "      <th>min</th>\n",
       "      <td>9.010000</td>\n",
       "      <td>9.140000</td>\n",
       "      <td>8.560000</td>\n",
       "      <td>9.310000</td>\n",
       "    </tr>\n",
       "    <tr>\n",
       "      <th>25%</th>\n",
       "      <td>12.420000</td>\n",
       "      <td>12.285000</td>\n",
       "      <td>11.865000</td>\n",
       "      <td>12.890000</td>\n",
       "    </tr>\n",
       "    <tr>\n",
       "      <th>50%</th>\n",
       "      <td>14.160000</td>\n",
       "      <td>14.060000</td>\n",
       "      <td>13.440000</td>\n",
       "      <td>14.940000</td>\n",
       "    </tr>\n",
       "    <tr>\n",
       "      <th>75%</th>\n",
       "      <td>17.625000</td>\n",
       "      <td>17.500000</td>\n",
       "      <td>16.550000</td>\n",
       "      <td>18.929999</td>\n",
       "    </tr>\n",
       "    <tr>\n",
       "      <th>max</th>\n",
       "      <td>65.669998</td>\n",
       "      <td>63.950001</td>\n",
       "      <td>58.029999</td>\n",
       "      <td>68.860001</td>\n",
       "    </tr>\n",
       "  </tbody>\n",
       "</table>\n",
       "</div>"
      ],
      "text/plain": [
       "            Open_C      Close_C        Low_C       High_C\n",
       "count  1095.000000  1095.000000  1095.000000  1095.000000\n",
       "mean     16.147571    16.072648    15.223635    17.214539\n",
       "std       6.764147     6.773569     5.995822     7.588690\n",
       "min       9.010000     9.140000     8.560000     9.310000\n",
       "25%      12.420000    12.285000    11.865000    12.890000\n",
       "50%      14.160000    14.060000    13.440000    14.940000\n",
       "75%      17.625000    17.500000    16.550000    18.929999\n",
       "max      65.669998    63.950001    58.029999    68.860001"
      ]
     },
     "execution_count": 30,
     "metadata": {},
     "output_type": "execute_result"
    }
   ],
   "source": [
    "pd.set_option('display.max_rows', None)\n",
    "no_outlier_prices[['Open_C', 'Close_C', 'Low_C', 'High_C']].describe()"
   ]
  },
  {
   "cell_type": "code",
   "execution_count": 31,
   "metadata": {},
   "outputs": [],
   "source": [
    "pd.set_option('display.max_rows', 5)"
   ]
  },
  {
   "cell_type": "code",
   "execution_count": 32,
   "metadata": {},
   "outputs": [],
   "source": [
    "# Visualization"
   ]
  },
  {
   "cell_type": "code",
   "execution_count": 33,
   "metadata": {},
   "outputs": [],
   "source": [
    "close_prices = no_outlier_prices[['Close_A', 'Close_B', 'Close_C']]"
   ]
  },
  {
   "cell_type": "code",
   "execution_count": 34,
   "metadata": {},
   "outputs": [],
   "source": [
    "delta_close_prices = (close_prices.shift(-1) - close_prices).fillna(0)\n",
    "delta_close_prices.columns = ['Delta_Close_A', 'Delta_Close_B', 'Delta_Close_C']"
   ]
  },
  {
   "cell_type": "code",
   "execution_count": 35,
   "metadata": {},
   "outputs": [
    {
     "data": {
      "text/html": [
       "<div>\n",
       "<style scoped>\n",
       "    .dataframe tbody tr th:only-of-type {\n",
       "        vertical-align: middle;\n",
       "    }\n",
       "\n",
       "    .dataframe tbody tr th {\n",
       "        vertical-align: top;\n",
       "    }\n",
       "\n",
       "    .dataframe thead th {\n",
       "        text-align: right;\n",
       "    }\n",
       "</style>\n",
       "<table border=\"1\" class=\"dataframe\">\n",
       "  <thead>\n",
       "    <tr style=\"text-align: right;\">\n",
       "      <th></th>\n",
       "      <th>Delta_Close_A</th>\n",
       "      <th>Delta_Close_B</th>\n",
       "      <th>Delta_Close_C</th>\n",
       "    </tr>\n",
       "    <tr>\n",
       "      <th>Date</th>\n",
       "      <th></th>\n",
       "      <th></th>\n",
       "      <th></th>\n",
       "    </tr>\n",
       "  </thead>\n",
       "  <tbody>\n",
       "    <tr>\n",
       "      <th>2015-05-15</th>\n",
       "      <td>26.320312</td>\n",
       "      <td>6.469971</td>\n",
       "      <td>0.350000</td>\n",
       "    </tr>\n",
       "    <tr>\n",
       "      <th>2015-05-18</th>\n",
       "      <td>13.509766</td>\n",
       "      <td>-1.369873</td>\n",
       "      <td>0.120000</td>\n",
       "    </tr>\n",
       "    <tr>\n",
       "      <th>...</th>\n",
       "      <td>...</td>\n",
       "      <td>...</td>\n",
       "      <td>...</td>\n",
       "    </tr>\n",
       "    <tr>\n",
       "      <th>2020-05-13</th>\n",
       "      <td>377.369141</td>\n",
       "      <td>32.500000</td>\n",
       "      <td>-2.669998</td>\n",
       "    </tr>\n",
       "    <tr>\n",
       "      <th>2020-05-14</th>\n",
       "      <td>0.000000</td>\n",
       "      <td>0.000000</td>\n",
       "      <td>0.000000</td>\n",
       "    </tr>\n",
       "  </tbody>\n",
       "</table>\n",
       "<p>1095 rows × 3 columns</p>\n",
       "</div>"
      ],
      "text/plain": [
       "            Delta_Close_A  Delta_Close_B  Delta_Close_C\n",
       "Date                                                   \n",
       "2015-05-15      26.320312       6.469971       0.350000\n",
       "2015-05-18      13.509766      -1.369873       0.120000\n",
       "...                   ...            ...            ...\n",
       "2020-05-13     377.369141      32.500000      -2.669998\n",
       "2020-05-14       0.000000       0.000000       0.000000\n",
       "\n",
       "[1095 rows x 3 columns]"
      ]
     },
     "execution_count": 35,
     "metadata": {},
     "output_type": "execute_result"
    }
   ],
   "source": [
    "delta_close_prices"
   ]
  },
  {
   "cell_type": "code",
   "execution_count": 36,
   "metadata": {},
   "outputs": [],
   "source": [
    "pd.set_option('display.max_rows', None)"
   ]
  },
  {
   "cell_type": "code",
   "execution_count": 37,
   "metadata": {},
   "outputs": [
    {
     "data": {
      "text/html": [
       "<div>\n",
       "<style scoped>\n",
       "    .dataframe tbody tr th:only-of-type {\n",
       "        vertical-align: middle;\n",
       "    }\n",
       "\n",
       "    .dataframe tbody tr th {\n",
       "        vertical-align: top;\n",
       "    }\n",
       "\n",
       "    .dataframe thead th {\n",
       "        text-align: right;\n",
       "    }\n",
       "</style>\n",
       "<table border=\"1\" class=\"dataframe\">\n",
       "  <thead>\n",
       "    <tr style=\"text-align: right;\">\n",
       "      <th></th>\n",
       "      <th>Delta_Close_A</th>\n",
       "      <th>Delta_Close_B</th>\n",
       "      <th>Delta_Close_C</th>\n",
       "    </tr>\n",
       "  </thead>\n",
       "  <tbody>\n",
       "    <tr>\n",
       "      <th>count</th>\n",
       "      <td>1095.000000</td>\n",
       "      <td>1095.000000</td>\n",
       "      <td>1095.000000</td>\n",
       "    </tr>\n",
       "    <tr>\n",
       "      <th>mean</th>\n",
       "      <td>4.888383</td>\n",
       "      <td>0.666457</td>\n",
       "      <td>0.018475</td>\n",
       "    </tr>\n",
       "    <tr>\n",
       "      <th>std</th>\n",
       "      <td>268.137091</td>\n",
       "      <td>29.218995</td>\n",
       "      <td>1.938761</td>\n",
       "    </tr>\n",
       "    <tr>\n",
       "      <th>min</th>\n",
       "      <td>-2848.310547</td>\n",
       "      <td>-294.049805</td>\n",
       "      <td>-9.120001</td>\n",
       "    </tr>\n",
       "    <tr>\n",
       "      <th>25%</th>\n",
       "      <td>-70.894532</td>\n",
       "      <td>-7.140076</td>\n",
       "      <td>-0.760000</td>\n",
       "    </tr>\n",
       "    <tr>\n",
       "      <th>50%</th>\n",
       "      <td>15.539063</td>\n",
       "      <td>1.770020</td>\n",
       "      <td>-0.080000</td>\n",
       "    </tr>\n",
       "    <tr>\n",
       "      <th>75%</th>\n",
       "      <td>113.290039</td>\n",
       "      <td>12.255005</td>\n",
       "      <td>0.540001</td>\n",
       "    </tr>\n",
       "    <tr>\n",
       "      <th>max</th>\n",
       "      <td>1351.619141</td>\n",
       "      <td>154.510009</td>\n",
       "      <td>20.010001</td>\n",
       "    </tr>\n",
       "  </tbody>\n",
       "</table>\n",
       "</div>"
      ],
      "text/plain": [
       "       Delta_Close_A  Delta_Close_B  Delta_Close_C\n",
       "count    1095.000000    1095.000000    1095.000000\n",
       "mean        4.888383       0.666457       0.018475\n",
       "std       268.137091      29.218995       1.938761\n",
       "min     -2848.310547    -294.049805      -9.120001\n",
       "25%       -70.894532      -7.140076      -0.760000\n",
       "50%        15.539063       1.770020      -0.080000\n",
       "75%       113.290039      12.255005       0.540001\n",
       "max      1351.619141     154.510009      20.010001"
      ]
     },
     "execution_count": 37,
     "metadata": {},
     "output_type": "execute_result"
    }
   ],
   "source": [
    "delta_close_prices.describe()"
   ]
  },
  {
   "cell_type": "code",
   "execution_count": 38,
   "metadata": {},
   "outputs": [
    {
     "data": {
      "text/plain": [
       "<matplotlib.axes._subplots.AxesSubplot at 0x7f9009a2a780>"
      ]
     },
     "execution_count": 38,
     "metadata": {},
     "output_type": "execute_result"
    },
    {
     "data": {
      "image/png": "[encoded data removed]",
      "text/plain": [
       "<Figure size 864x432 with 1 Axes>"
      ]
     },
     "metadata": {
      "needs_background": "light"
     },
     "output_type": "display_data"
    }
   ],
   "source": [
    "delta_close_prices['Delta_Close_A'].plot(kind='hist', bins=100, figsize=(12,6), color='black', grid=True)"
   ]
  },
  {
   "cell_type": "code",
   "execution_count": 39,
   "metadata": {},
   "outputs": [
    {
     "data": {
      "text/plain": [
       "<matplotlib.axes._subplots.AxesSubplot at 0x7f90132e9b70>"
      ]
     },
     "execution_count": 39,
     "metadata": {},
     "output_type": "execute_result"
    },
    {
     "data": {
      "image/png": "[encoded data removed]",
      "text/plain": [
       "<Figure size 864x432 with 1 Axes>"
      ]
     },
     "metadata": {
      "needs_background": "light"
     },
     "output_type": "display_data"
    }
   ],
   "source": [
    "delta_close_prices['Delta_Close_B'].plot(kind='box', figsize=(12,6), color='black', grid=True)"
   ]
  },
  {
   "cell_type": "code",
   "execution_count": 40,
   "metadata": {},
   "outputs": [
    {
     "data": {
      "text/plain": [
       "array([[<matplotlib.axes._subplots.AxesSubplot object at 0x7f9003f5d048>,\n",
       "        <matplotlib.axes._subplots.AxesSubplot object at 0x7f9003f07b70>,\n",
       "        <matplotlib.axes._subplots.AxesSubplot object at 0x7f9003f3bdd8>],\n",
       "       [<matplotlib.axes._subplots.AxesSubplot object at 0x7f9003efc080>,\n",
       "        <matplotlib.axes._subplots.AxesSubplot object at 0x7f9003eaf2e8>,\n",
       "        <matplotlib.axes._subplots.AxesSubplot object at 0x7f9003e64550>],\n",
       "       [<matplotlib.axes._subplots.AxesSubplot object at 0x7f90080c9080>,\n",
       "        <matplotlib.axes._subplots.AxesSubplot object at 0x7f9003f4c3c8>,\n",
       "        <matplotlib.axes._subplots.AxesSubplot object at 0x7f9003f4cda0>]],\n",
       "      dtype=object)"
      ]
     },
     "execution_count": 40,
     "metadata": {},
     "output_type": "execute_result"
    },
    {
     "data": {
      "image/png": "[encoded data removed]",
      "text/plain": [
       "<Figure size 720x720 with 9 Axes>"
      ]
     },
     "metadata": {
      "needs_background": "light"
     },
     "output_type": "display_data"
    }
   ],
   "source": [
    "pd.plotting.scatter_matrix(delta_close_prices, figsize=(10,10), color='black', alpha=0.75, diagonal='kde', grid=True)"
   ]
  },
  {
   "cell_type": "code",
   "execution_count": 41,
   "metadata": {},
   "outputs": [
    {
     "data": {
      "text/html": [
       "<div>\n",
       "<style scoped>\n",
       "    .dataframe tbody tr th:only-of-type {\n",
       "        vertical-align: middle;\n",
       "    }\n",
       "\n",
       "    .dataframe tbody tr th {\n",
       "        vertical-align: top;\n",
       "    }\n",
       "\n",
       "    .dataframe thead th {\n",
       "        text-align: right;\n",
       "    }\n",
       "</style>\n",
       "<table border=\"1\" class=\"dataframe\">\n",
       "  <thead>\n",
       "    <tr style=\"text-align: right;\">\n",
       "      <th></th>\n",
       "      <th>Delta_Close_A</th>\n",
       "      <th>Delta_Close_B</th>\n",
       "      <th>Delta_Close_C</th>\n",
       "    </tr>\n",
       "  </thead>\n",
       "  <tbody>\n",
       "    <tr>\n",
       "      <th>Delta_Close_A</th>\n",
       "      <td>1.000000</td>\n",
       "      <td>0.976104</td>\n",
       "      <td>-0.785566</td>\n",
       "    </tr>\n",
       "    <tr>\n",
       "      <th>Delta_Close_B</th>\n",
       "      <td>0.976104</td>\n",
       "      <td>1.000000</td>\n",
       "      <td>-0.817788</td>\n",
       "    </tr>\n",
       "    <tr>\n",
       "      <th>Delta_Close_C</th>\n",
       "      <td>-0.785566</td>\n",
       "      <td>-0.817788</td>\n",
       "      <td>1.000000</td>\n",
       "    </tr>\n",
       "  </tbody>\n",
       "</table>\n",
       "</div>"
      ],
      "text/plain": [
       "               Delta_Close_A  Delta_Close_B  Delta_Close_C\n",
       "Delta_Close_A       1.000000       0.976104      -0.785566\n",
       "Delta_Close_B       0.976104       1.000000      -0.817788\n",
       "Delta_Close_C      -0.785566      -0.817788       1.000000"
      ]
     },
     "execution_count": 41,
     "metadata": {},
     "output_type": "execute_result"
    }
   ],
   "source": [
    "delta_close_prices.corr()"
   ]
  },
  {
   "cell_type": "code",
   "execution_count": 43,
   "metadata": {},
   "outputs": [
    {
     "data": {
      "text/plain": [
       "<matplotlib.axes._subplots.AxesSubplot at 0x7f9003b2ecf8>"
      ]
     },
     "execution_count": 43,
     "metadata": {},
     "output_type": "execute_result"
    },
    {
     "data": {
      "image/png": "[encoded data removed]",
      "text/plain": [
       "<Figure size 432x432 with 2 Axes>"
      ]
     },
     "metadata": {
      "needs_background": "light"
     },
     "output_type": "display_data"
    }
   ],
   "source": [
    "import seaborn as sn\n",
    "plt.figure(figsize=(6,6))\n",
    "sn.heatmap(delta_close_prices.corr(), annot=True, square=True, linewidths=2, cmap=plt.cm.gray)"
   ]
  },
  {
   "cell_type": "code",
   "execution_count": null,
   "metadata": {},
   "outputs": [],
   "source": []
  }
 ],
 "metadata": {
  "kernelspec": {
   "display_name": "Python 3",
   "language": "python",
   "name": "python3"
  },
  "language_info": {
   "codemirror_mode": {
    "name": "ipython",
    "version": 3
   },
   "file_extension": ".py",
   "mimetype": "text/x-python",
   "name": "python",
   "nbconvert_exporter": "python",
   "pygments_lexer": "ipython3",
   "version": "3.6.9"
  }
 },
 "nbformat": 4,
 "nbformat_minor": 4
}
